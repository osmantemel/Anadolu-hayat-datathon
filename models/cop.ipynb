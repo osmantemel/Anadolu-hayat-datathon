{
 "cells": [
  {
   "cell_type": "code",
   "execution_count": null,
   "metadata": {},
   "outputs": [],
   "source": [
    "import pandas as pd\n",
    "from sklearn.tree import DecisionTreeClassifier\n",
    "from sklearn.impute import SimpleImputer\n",
    "from sklearn.model_selection import train_test_split\n",
    "from sklearn.metrics import accuracy_score\n",
    "\n",
    "# Veri setini yükle\n",
    "veri_seti = pd.read_csv('/home/osman/Documents/Anadolu-hayat-datathon/datasets/train.csv')  # Veri setinin dosya yolunu belirtin\n",
    "\n",
    "# Eksik verileri doldurmak için basit bir doldurucu oluştur\n",
    "doldurucu = SimpleImputer(strategy='most_frequent')  # En sık görülen değerle doldur\n",
    "\n",
    "# Eksik verileri doldur\n",
    "eksik_sutunlar = ['PP_MESLEK', 'SORU_MEDENI_HAL_CVP', 'SORU_EGITIM_CVP', ...]  # Eksik değerleri olan sütunları listeleyin\n",
    "veri_seti[eksik_sutunlar] = doldurucu.fit_transform(veri_seti[eksik_sutunlar])\n",
    "\n",
    "# Model için giriş ve hedef değişkenleri belirle\n",
    "X = veri_seti.drop(columns=['LABEL'])  # LABEL sütunu dışındaki tüm sütunlar giriş değişkenleri\n",
    "y = veri_seti['LABEL']  # LABEL sütunu hedef değişken\n",
    "\n",
    "# Eğitim ve test setlerini oluştur\n",
    "X_train, X_test, y_train, y_test = train_test_split(X, y, test_size=0.2, random_state=42)\n",
    "\n",
    "# Karar ağacı modelini oluştur ve eğit\n",
    "model = DecisionTreeClassifier(random_state=42)\n",
    "model.fit(X_train, y_train)\n",
    "\n",
    "# Modelin performansını değerlendir\n",
    "y_pred = model.predict(X_test)\n",
    "accuracy = accuracy_score(y_test, y_pred)\n",
    "print(\"Model Doğruluk Oranı:\", accuracy)\n"
   ]
  }
 ],
 "metadata": {
  "language_info": {
   "name": "python"
  }
 },
 "nbformat": 4,
 "nbformat_minor": 2
}
