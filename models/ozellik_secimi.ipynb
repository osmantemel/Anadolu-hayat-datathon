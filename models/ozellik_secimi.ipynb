{
 "cells": [
  {
   "cell_type": "code",
   "execution_count": 16,
   "metadata": {},
   "outputs": [],
   "source": [
    "import pandas as pd"
   ]
  },
  {
   "cell_type": "code",
   "execution_count": 15,
   "metadata": {},
   "outputs": [
    {
     "name": "stderr",
     "output_type": "stream",
     "text": [
      "C:\\Users\\Osman\\AppData\\Local\\Temp\\ipykernel_19088\\3530611747.py:1: DtypeWarning: Columns (15) have mixed types. Specify dtype option on import or set low_memory=False.\n",
      "  veri_seti = pd.read_csv('datasets/train.csv')\n"
     ]
    }
   ],
   "source": [
    "veri_seti = pd.read_csv('../datasets/train.csv')"
   ]
  },
  {
   "cell_type": "code",
   "execution_count": 18,
   "metadata": {},
   "outputs": [
    {
     "name": "stdout",
     "output_type": "stream",
     "text": [
      "0\n"
     ]
    }
   ],
   "source": [
    "from sklearn.preprocessing import LabelEncoder\n",
    "\n",
    "\n",
    "def bosverileri_doldur_train(veriseti):\n",
    "  for kolon in veriseti.columns:\n",
    "    if veriseti[kolon].isnull().any():\n",
    "        en_cok_olan_deger = veriseti[kolon].value_counts().idxmax()\n",
    "        veriseti[kolon].fillna(en_cok_olan_deger, inplace=True)\n",
    "  return veriseti\n",
    "\n",
    "veri_seti= bosverileri_doldur_train(veri_seti)\n",
    "print(veri_seti.isnull().sum().sum())\n",
    "\n",
    "def sayisal_veriye_donustur(veri_seti):\n",
    "\n",
    "    y = veri_seti['LABEL']\n",
    "    label_encoder = LabelEncoder()\n",
    "    y = label_encoder.fit_transform(y)\n",
    "\n",
    "    for kolon in veri_seti.columns:\n",
    "        if veri_seti[kolon].dtype == 'object':\n",
    "            veri_seti[kolon] = veri_seti[kolon].astype(str)  # Veriyi string olarak dönüştür\n",
    "            veri_seti[kolon] = label_encoder.fit_transform(veri_seti[kolon])\n",
    "\n",
    "\n",
    "    X = veri_seti.drop(columns=['LABEL','MUSTERI_ID'])  # LABEL sütununu hariç tut\n",
    "\n",
    "    return X , y\n",
    "\n",
    "X , y= sayisal_veriye_donustur(veri_seti)\n"
   ]
  },
  {
   "cell_type": "code",
   "execution_count": null,
   "metadata": {},
   "outputs": [],
   "source": [
    "from sklearn.feature_selection import RFE\n",
    "import xgboost as xgb\n",
    "from sklearn.model_selection import train_test_split\n",
    "\n",
    "# RFE için XGBoost sınıflandırıcı kullanalım\n",
    "estimator = xgb.XGBClassifier()\n",
    "\n",
    "# Özellik seçimi için RFE kullanarak bir model oluşturma\n",
    "selector = RFE(estimator, n_features_to_select=5, step=1)\n",
    "\n",
    "# en önemli özellikleri seçelme\n",
    "selector = selector.fit(X, y)\n",
    "\n",
    "# Seçilen özelliklerin indekslerini alama\n",
    "selected_features_indexes = selector.get_support(indices=True)\n",
    "\n",
    "# Seçilen özellikleri ve önem sıralarını yazdırma\n",
    "print(\"Seçilen Özellikler ve Önem Sıraları:\")\n",
    "for i, index in enumerate(selected_features_indexes):\n",
    "    feature = X.columns[index]\n",
    "    importance_rank = selector.ranking_[index]\n",
    "    print(f\"{i+1}. {feature}: {importance_rank}\")\n",
    "\n",
    "# Seçilen özellikleri ve önem sıralarını bir DataFrame'e kaydetme\n",
    "selected_features = X.columns[selected_features_indexes]\n",
    "selected_features_df = pd.DataFrame({'Feature': selected_features, 'Information Gain': selector.ranking_[selected_features_indexes]})\n",
    "\n",
    "# Özellikleri CSV dosyasına kaydedelim\n",
    "selected_features_df.to_csv('feature_info_gain_df.csv', index=False)\n"
   ]
  }
 ],
 "metadata": {
  "kernelspec": {
   "display_name": "Python 3",
   "language": "python",
   "name": "python3"
  },
  "language_info": {
   "codemirror_mode": {
    "name": "ipython",
    "version": 3
   },
   "file_extension": ".py",
   "mimetype": "text/x-python",
   "name": "python",
   "nbconvert_exporter": "python",
   "pygments_lexer": "ipython3",
   "version": "3.11.8"
  }
 },
 "nbformat": 4,
 "nbformat_minor": 2
}
